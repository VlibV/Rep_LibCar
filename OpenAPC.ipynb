{
 "cells": [
  {
   "cell_type": "code",
   "execution_count": 2,
   "id": "311ef772",
   "metadata": {},
   "outputs": [],
   "source": [
    "import urllib.request\n",
    "import pandas as pd"
   ]
  },
  {
   "cell_type": "code",
   "execution_count": 1,
   "id": "040dcd21",
   "metadata": {},
   "outputs": [],
   "source": [
    "# Quelle definieren\n",
    "url = \"https://raw.githubusercontent.com/OpenAPC/openapc-de/master/data/fuberlin/APC_FU_Berlin_2015.csv\"\n",
    "# Ziel definieren\n",
    "apc_file = \"openapc.csv\""
   ]
  },
  {
   "cell_type": "code",
   "execution_count": 3,
   "id": "b7b5fd82",
   "metadata": {},
   "outputs": [
    {
     "data": {
      "text/plain": [
       "('openapc.csv', <http.client.HTTPMessage at 0x1d335b9bf40>)"
      ]
     },
     "execution_count": 3,
     "metadata": {},
     "output_type": "execute_result"
    }
   ],
   "source": [
    "# Daten downloaden und lokal abspeichern\n",
    "urllib.request.urlretrieve(url, apc_file) # urlretrieve ist eine Funktion aus dem Modul request"
   ]
  },
  {
   "cell_type": "code",
   "execution_count": 4,
   "id": "efc40cfe",
   "metadata": {},
   "outputs": [],
   "source": [
    "# die csv-Datei in einen Padas Dataframe einlesen\n",
    "apcs = pd.read_csv(apc_file)"
   ]
  },
  {
   "cell_type": "code",
   "execution_count": 5,
   "id": "58eff0c1",
   "metadata": {},
   "outputs": [
    {
     "data": {
      "text/html": [
       "<div>\n",
       "<style scoped>\n",
       "    .dataframe tbody tr th:only-of-type {\n",
       "        vertical-align: middle;\n",
       "    }\n",
       "\n",
       "    .dataframe tbody tr th {\n",
       "        vertical-align: top;\n",
       "    }\n",
       "\n",
       "    .dataframe thead th {\n",
       "        text-align: right;\n",
       "    }\n",
       "</style>\n",
       "<table border=\"1\" class=\"dataframe\">\n",
       "  <thead>\n",
       "    <tr style=\"text-align: right;\">\n",
       "      <th></th>\n",
       "      <th>institution</th>\n",
       "      <th>period</th>\n",
       "      <th>euro</th>\n",
       "      <th>doi</th>\n",
       "      <th>is_hybrid</th>\n",
       "      <th>publisher</th>\n",
       "      <th>journal_full_title</th>\n",
       "      <th>issn</th>\n",
       "      <th>issn_print</th>\n",
       "      <th>issn_electronic</th>\n",
       "      <th>license_ref</th>\n",
       "      <th>indexed_in_crossref</th>\n",
       "      <th>pmid</th>\n",
       "      <th>pmcid</th>\n",
       "      <th>ut</th>\n",
       "      <th>url</th>\n",
       "      <th>doaj</th>\n",
       "    </tr>\n",
       "  </thead>\n",
       "  <tbody>\n",
       "    <tr>\n",
       "      <th>0</th>\n",
       "      <td>FU Berlin</td>\n",
       "      <td>2015</td>\n",
       "      <td>2000.00</td>\n",
       "      <td>10.1038/npjqi.2015.10</td>\n",
       "      <td>False</td>\n",
       "      <td>Springer Nature</td>\n",
       "      <td>npj Quantum Information</td>\n",
       "      <td>2056-6387</td>\n",
       "      <td>NaN</td>\n",
       "      <td>2056-6387</td>\n",
       "      <td>NaN</td>\n",
       "      <td>True</td>\n",
       "      <td>NaN</td>\n",
       "      <td>NaN</td>\n",
       "      <td>NaN</td>\n",
       "      <td>NaN</td>\n",
       "      <td>True</td>\n",
       "    </tr>\n",
       "    <tr>\n",
       "      <th>1</th>\n",
       "      <td>FU Berlin</td>\n",
       "      <td>2015</td>\n",
       "      <td>1503.12</td>\n",
       "      <td>10.1103/PhysRevX.5.041008</td>\n",
       "      <td>False</td>\n",
       "      <td>American Physical Society (APS)</td>\n",
       "      <td>Physical Review X</td>\n",
       "      <td>2160-3308</td>\n",
       "      <td>NaN</td>\n",
       "      <td>2160-3308</td>\n",
       "      <td>http://creativecommons.org/licenses/by/3.0/</td>\n",
       "      <td>True</td>\n",
       "      <td>NaN</td>\n",
       "      <td>NaN</td>\n",
       "      <td>NaN</td>\n",
       "      <td>NaN</td>\n",
       "      <td>True</td>\n",
       "    </tr>\n",
       "    <tr>\n",
       "      <th>2</th>\n",
       "      <td>FU Berlin</td>\n",
       "      <td>2015</td>\n",
       "      <td>2000.00</td>\n",
       "      <td>10.1038/ncomms9498</td>\n",
       "      <td>False</td>\n",
       "      <td>Springer Nature</td>\n",
       "      <td>Nature Communications</td>\n",
       "      <td>2041-1723</td>\n",
       "      <td>NaN</td>\n",
       "      <td>2041-1723</td>\n",
       "      <td>NaN</td>\n",
       "      <td>True</td>\n",
       "      <td>26577800.0</td>\n",
       "      <td>PMC4673657</td>\n",
       "      <td>NaN</td>\n",
       "      <td>NaN</td>\n",
       "      <td>True</td>\n",
       "    </tr>\n",
       "    <tr>\n",
       "      <th>3</th>\n",
       "      <td>FU Berlin</td>\n",
       "      <td>2015</td>\n",
       "      <td>2000.00</td>\n",
       "      <td>10.1371/journal.ppat.1005246</td>\n",
       "      <td>False</td>\n",
       "      <td>Public Library of Science (PLoS)</td>\n",
       "      <td>PLOS Pathogens</td>\n",
       "      <td>1553-7374</td>\n",
       "      <td>NaN</td>\n",
       "      <td>1553-7374</td>\n",
       "      <td>http://creativecommons.org/licenses/by/4.0/</td>\n",
       "      <td>True</td>\n",
       "      <td>26544881.0</td>\n",
       "      <td>PMC4636265</td>\n",
       "      <td>NaN</td>\n",
       "      <td>NaN</td>\n",
       "      <td>True</td>\n",
       "    </tr>\n",
       "    <tr>\n",
       "      <th>4</th>\n",
       "      <td>FU Berlin</td>\n",
       "      <td>2015</td>\n",
       "      <td>1805.00</td>\n",
       "      <td>10.1186/s13099-015-0075-z</td>\n",
       "      <td>False</td>\n",
       "      <td>Springer Nature</td>\n",
       "      <td>Gut Pathogens</td>\n",
       "      <td>1757-4749</td>\n",
       "      <td>NaN</td>\n",
       "      <td>1757-4749</td>\n",
       "      <td>NaN</td>\n",
       "      <td>True</td>\n",
       "      <td>26483849.0</td>\n",
       "      <td>PMC4610047</td>\n",
       "      <td>NaN</td>\n",
       "      <td>NaN</td>\n",
       "      <td>True</td>\n",
       "    </tr>\n",
       "    <tr>\n",
       "      <th>...</th>\n",
       "      <td>...</td>\n",
       "      <td>...</td>\n",
       "      <td>...</td>\n",
       "      <td>...</td>\n",
       "      <td>...</td>\n",
       "      <td>...</td>\n",
       "      <td>...</td>\n",
       "      <td>...</td>\n",
       "      <td>...</td>\n",
       "      <td>...</td>\n",
       "      <td>...</td>\n",
       "      <td>...</td>\n",
       "      <td>...</td>\n",
       "      <td>...</td>\n",
       "      <td>...</td>\n",
       "      <td>...</td>\n",
       "      <td>...</td>\n",
       "    </tr>\n",
       "    <tr>\n",
       "      <th>56</th>\n",
       "      <td>FU Berlin</td>\n",
       "      <td>2015</td>\n",
       "      <td>1731.45</td>\n",
       "      <td>10.1186/s13015-014-0028-y</td>\n",
       "      <td>False</td>\n",
       "      <td>Springer Nature</td>\n",
       "      <td>Algorithms for Molecular Biology</td>\n",
       "      <td>1748-7188</td>\n",
       "      <td>1748-7188</td>\n",
       "      <td>NaN</td>\n",
       "      <td>NaN</td>\n",
       "      <td>True</td>\n",
       "      <td>25649004.0</td>\n",
       "      <td>PMC4302510</td>\n",
       "      <td>NaN</td>\n",
       "      <td>NaN</td>\n",
       "      <td>True</td>\n",
       "    </tr>\n",
       "    <tr>\n",
       "      <th>57</th>\n",
       "      <td>FU Berlin</td>\n",
       "      <td>2015</td>\n",
       "      <td>1600.00</td>\n",
       "      <td>10.3389/fpsyg.2015.00194</td>\n",
       "      <td>False</td>\n",
       "      <td>Frontiers Media SA</td>\n",
       "      <td>Frontiers in Psychology</td>\n",
       "      <td>1664-1078</td>\n",
       "      <td>NaN</td>\n",
       "      <td>1664-1078</td>\n",
       "      <td>NaN</td>\n",
       "      <td>True</td>\n",
       "      <td>25762966.0</td>\n",
       "      <td>PMC4340142</td>\n",
       "      <td>NaN</td>\n",
       "      <td>NaN</td>\n",
       "      <td>True</td>\n",
       "    </tr>\n",
       "    <tr>\n",
       "      <th>58</th>\n",
       "      <td>FU Berlin</td>\n",
       "      <td>2015</td>\n",
       "      <td>219.84</td>\n",
       "      <td>10.3389/fevo.2015.00020</td>\n",
       "      <td>False</td>\n",
       "      <td>Frontiers Media SA</td>\n",
       "      <td>Frontiers in Ecology and Evolution</td>\n",
       "      <td>2296-701X</td>\n",
       "      <td>NaN</td>\n",
       "      <td>2296-701X</td>\n",
       "      <td>NaN</td>\n",
       "      <td>True</td>\n",
       "      <td>NaN</td>\n",
       "      <td>NaN</td>\n",
       "      <td>NaN</td>\n",
       "      <td>NaN</td>\n",
       "      <td>True</td>\n",
       "    </tr>\n",
       "    <tr>\n",
       "      <th>59</th>\n",
       "      <td>FU Berlin</td>\n",
       "      <td>2015</td>\n",
       "      <td>1386.35</td>\n",
       "      <td>10.1038/srep19416</td>\n",
       "      <td>False</td>\n",
       "      <td>Springer Nature</td>\n",
       "      <td>Scientific Reports</td>\n",
       "      <td>2045-2322</td>\n",
       "      <td>NaN</td>\n",
       "      <td>2045-2322</td>\n",
       "      <td>NaN</td>\n",
       "      <td>True</td>\n",
       "      <td>26757825.0</td>\n",
       "      <td>PMC4725832</td>\n",
       "      <td>NaN</td>\n",
       "      <td>NaN</td>\n",
       "      <td>True</td>\n",
       "    </tr>\n",
       "    <tr>\n",
       "      <th>60</th>\n",
       "      <td>FU Berlin</td>\n",
       "      <td>2015</td>\n",
       "      <td>2000.00</td>\n",
       "      <td>10.1155/2015/569512</td>\n",
       "      <td>False</td>\n",
       "      <td>Hindawi Publishing Corporation</td>\n",
       "      <td>Mediators of Inflammation</td>\n",
       "      <td>0962-9351</td>\n",
       "      <td>0962-9351</td>\n",
       "      <td>1466-1861</td>\n",
       "      <td>http://creativecommons.org/licenses/by/4.0/</td>\n",
       "      <td>True</td>\n",
       "      <td>26770019.0</td>\n",
       "      <td>PMC4681803</td>\n",
       "      <td>NaN</td>\n",
       "      <td>NaN</td>\n",
       "      <td>True</td>\n",
       "    </tr>\n",
       "  </tbody>\n",
       "</table>\n",
       "<p>61 rows × 17 columns</p>\n",
       "</div>"
      ],
      "text/plain": [
       "   institution  period     euro                           doi  is_hybrid  \\\n",
       "0    FU Berlin    2015  2000.00         10.1038/npjqi.2015.10      False   \n",
       "1    FU Berlin    2015  1503.12     10.1103/PhysRevX.5.041008      False   \n",
       "2    FU Berlin    2015  2000.00            10.1038/ncomms9498      False   \n",
       "3    FU Berlin    2015  2000.00  10.1371/journal.ppat.1005246      False   \n",
       "4    FU Berlin    2015  1805.00     10.1186/s13099-015-0075-z      False   \n",
       "..         ...     ...      ...                           ...        ...   \n",
       "56   FU Berlin    2015  1731.45     10.1186/s13015-014-0028-y      False   \n",
       "57   FU Berlin    2015  1600.00      10.3389/fpsyg.2015.00194      False   \n",
       "58   FU Berlin    2015   219.84       10.3389/fevo.2015.00020      False   \n",
       "59   FU Berlin    2015  1386.35             10.1038/srep19416      False   \n",
       "60   FU Berlin    2015  2000.00           10.1155/2015/569512      False   \n",
       "\n",
       "                           publisher                  journal_full_title  \\\n",
       "0                    Springer Nature             npj Quantum Information   \n",
       "1    American Physical Society (APS)                   Physical Review X   \n",
       "2                    Springer Nature               Nature Communications   \n",
       "3   Public Library of Science (PLoS)                      PLOS Pathogens   \n",
       "4                    Springer Nature                       Gut Pathogens   \n",
       "..                               ...                                 ...   \n",
       "56                   Springer Nature    Algorithms for Molecular Biology   \n",
       "57                Frontiers Media SA             Frontiers in Psychology   \n",
       "58                Frontiers Media SA  Frontiers in Ecology and Evolution   \n",
       "59                   Springer Nature                  Scientific Reports   \n",
       "60    Hindawi Publishing Corporation           Mediators of Inflammation   \n",
       "\n",
       "         issn issn_print issn_electronic  \\\n",
       "0   2056-6387        NaN       2056-6387   \n",
       "1   2160-3308        NaN       2160-3308   \n",
       "2   2041-1723        NaN       2041-1723   \n",
       "3   1553-7374        NaN       1553-7374   \n",
       "4   1757-4749        NaN       1757-4749   \n",
       "..        ...        ...             ...   \n",
       "56  1748-7188  1748-7188             NaN   \n",
       "57  1664-1078        NaN       1664-1078   \n",
       "58  2296-701X        NaN       2296-701X   \n",
       "59  2045-2322        NaN       2045-2322   \n",
       "60  0962-9351  0962-9351       1466-1861   \n",
       "\n",
       "                                    license_ref  indexed_in_crossref  \\\n",
       "0                                           NaN                 True   \n",
       "1   http://creativecommons.org/licenses/by/3.0/                 True   \n",
       "2                                           NaN                 True   \n",
       "3   http://creativecommons.org/licenses/by/4.0/                 True   \n",
       "4                                           NaN                 True   \n",
       "..                                          ...                  ...   \n",
       "56                                          NaN                 True   \n",
       "57                                          NaN                 True   \n",
       "58                                          NaN                 True   \n",
       "59                                          NaN                 True   \n",
       "60  http://creativecommons.org/licenses/by/4.0/                 True   \n",
       "\n",
       "          pmid       pmcid  ut  url  doaj  \n",
       "0          NaN         NaN NaN  NaN  True  \n",
       "1          NaN         NaN NaN  NaN  True  \n",
       "2   26577800.0  PMC4673657 NaN  NaN  True  \n",
       "3   26544881.0  PMC4636265 NaN  NaN  True  \n",
       "4   26483849.0  PMC4610047 NaN  NaN  True  \n",
       "..         ...         ...  ..  ...   ...  \n",
       "56  25649004.0  PMC4302510 NaN  NaN  True  \n",
       "57  25762966.0  PMC4340142 NaN  NaN  True  \n",
       "58         NaN         NaN NaN  NaN  True  \n",
       "59  26757825.0  PMC4725832 NaN  NaN  True  \n",
       "60  26770019.0  PMC4681803 NaN  NaN  True  \n",
       "\n",
       "[61 rows x 17 columns]"
      ]
     },
     "execution_count": 5,
     "metadata": {},
     "output_type": "execute_result"
    }
   ],
   "source": [
    "apcs"
   ]
  },
  {
   "cell_type": "code",
   "execution_count": 6,
   "id": "d8fc8e8a",
   "metadata": {},
   "outputs": [
    {
     "data": {
      "text/plain": [
       "(61, 17)"
      ]
     },
     "execution_count": 6,
     "metadata": {},
     "output_type": "execute_result"
    }
   ],
   "source": [
    "apcs.shape # Zeilen und Spalten des Dataframe"
   ]
  },
  {
   "cell_type": "code",
   "execution_count": 8,
   "id": "fa6cf8c8",
   "metadata": {},
   "outputs": [
    {
     "data": {
      "text/plain": [
       "Index(['institution', 'period', 'euro', 'doi', 'is_hybrid', 'publisher',\n",
       "       'journal_full_title', 'issn', 'issn_print', 'issn_electronic',\n",
       "       'license_ref', 'indexed_in_crossref', 'pmid', 'pmcid', 'ut', 'url',\n",
       "       'doaj'],\n",
       "      dtype='object')"
      ]
     },
     "execution_count": 8,
     "metadata": {},
     "output_type": "execute_result"
    }
   ],
   "source": [
    "apcs.columns # Spaltenbeschriftung / Index"
   ]
  },
  {
   "cell_type": "code",
   "execution_count": 9,
   "id": "c8113554",
   "metadata": {},
   "outputs": [
    {
     "data": {
      "text/plain": [
       "0     2000.00\n",
       "1     1503.12\n",
       "2     2000.00\n",
       "3     2000.00\n",
       "4     1805.00\n",
       "       ...   \n",
       "56    1731.45\n",
       "57    1600.00\n",
       "58     219.84\n",
       "59    1386.35\n",
       "60    2000.00\n",
       "Name: euro, Length: 61, dtype: float64"
      ]
     },
     "execution_count": 9,
     "metadata": {},
     "output_type": "execute_result"
    }
   ],
   "source": [
    "apcs[\"euro\"]"
   ]
  },
  {
   "cell_type": "code",
   "execution_count": 10,
   "id": "a8efb3f8",
   "metadata": {},
   "outputs": [
    {
     "data": {
      "text/plain": [
       "2000.0"
      ]
     },
     "execution_count": 10,
     "metadata": {},
     "output_type": "execute_result"
    }
   ],
   "source": [
    "apcs[\"euro\"].max()"
   ]
  },
  {
   "cell_type": "code",
   "execution_count": 11,
   "id": "a91b3898",
   "metadata": {},
   "outputs": [
    {
     "data": {
      "text/plain": [
       "219.84"
      ]
     },
     "execution_count": 11,
     "metadata": {},
     "output_type": "execute_result"
    }
   ],
   "source": [
    "apcs[\"euro\"].min()"
   ]
  },
  {
   "cell_type": "code",
   "execution_count": 12,
   "id": "5326d77d",
   "metadata": {},
   "outputs": [
    {
     "data": {
      "text/plain": [
       "count      61.000000\n",
       "mean     1419.608033\n",
       "std       456.811349\n",
       "min       219.840000\n",
       "25%      1178.420000\n",
       "50%      1410.070000\n",
       "75%      1800.000000\n",
       "max      2000.000000\n",
       "Name: euro, dtype: float64"
      ]
     },
     "execution_count": 12,
     "metadata": {},
     "output_type": "execute_result"
    }
   ],
   "source": [
    "apcs[\"euro\"].describe()"
   ]
  },
  {
   "cell_type": "code",
   "execution_count": 14,
   "id": "eb7574a3",
   "metadata": {},
   "outputs": [
    {
     "data": {
      "text/plain": [
       "0      True\n",
       "1     False\n",
       "2      True\n",
       "3      True\n",
       "4     False\n",
       "      ...  \n",
       "56    False\n",
       "57    False\n",
       "58    False\n",
       "59    False\n",
       "60     True\n",
       "Name: euro, Length: 61, dtype: bool"
      ]
     },
     "execution_count": 14,
     "metadata": {},
     "output_type": "execute_result"
    }
   ],
   "source": [
    "apcs[\"euro\"] >= 2000 # nicht so schön"
   ]
  },
  {
   "cell_type": "code",
   "execution_count": 15,
   "id": "afb93270",
   "metadata": {},
   "outputs": [
    {
     "data": {
      "text/html": [
       "<div>\n",
       "<style scoped>\n",
       "    .dataframe tbody tr th:only-of-type {\n",
       "        vertical-align: middle;\n",
       "    }\n",
       "\n",
       "    .dataframe tbody tr th {\n",
       "        vertical-align: top;\n",
       "    }\n",
       "\n",
       "    .dataframe thead th {\n",
       "        text-align: right;\n",
       "    }\n",
       "</style>\n",
       "<table border=\"1\" class=\"dataframe\">\n",
       "  <thead>\n",
       "    <tr style=\"text-align: right;\">\n",
       "      <th></th>\n",
       "      <th>institution</th>\n",
       "      <th>period</th>\n",
       "      <th>euro</th>\n",
       "      <th>doi</th>\n",
       "      <th>is_hybrid</th>\n",
       "      <th>publisher</th>\n",
       "      <th>journal_full_title</th>\n",
       "      <th>issn</th>\n",
       "      <th>issn_print</th>\n",
       "      <th>issn_electronic</th>\n",
       "      <th>license_ref</th>\n",
       "      <th>indexed_in_crossref</th>\n",
       "      <th>pmid</th>\n",
       "      <th>pmcid</th>\n",
       "      <th>ut</th>\n",
       "      <th>url</th>\n",
       "      <th>doaj</th>\n",
       "    </tr>\n",
       "  </thead>\n",
       "  <tbody>\n",
       "    <tr>\n",
       "      <th>0</th>\n",
       "      <td>FU Berlin</td>\n",
       "      <td>2015</td>\n",
       "      <td>2000.0</td>\n",
       "      <td>10.1038/npjqi.2015.10</td>\n",
       "      <td>False</td>\n",
       "      <td>Springer Nature</td>\n",
       "      <td>npj Quantum Information</td>\n",
       "      <td>2056-6387</td>\n",
       "      <td>NaN</td>\n",
       "      <td>2056-6387</td>\n",
       "      <td>NaN</td>\n",
       "      <td>True</td>\n",
       "      <td>NaN</td>\n",
       "      <td>NaN</td>\n",
       "      <td>NaN</td>\n",
       "      <td>NaN</td>\n",
       "      <td>True</td>\n",
       "    </tr>\n",
       "    <tr>\n",
       "      <th>2</th>\n",
       "      <td>FU Berlin</td>\n",
       "      <td>2015</td>\n",
       "      <td>2000.0</td>\n",
       "      <td>10.1038/ncomms9498</td>\n",
       "      <td>False</td>\n",
       "      <td>Springer Nature</td>\n",
       "      <td>Nature Communications</td>\n",
       "      <td>2041-1723</td>\n",
       "      <td>NaN</td>\n",
       "      <td>2041-1723</td>\n",
       "      <td>NaN</td>\n",
       "      <td>True</td>\n",
       "      <td>26577800.0</td>\n",
       "      <td>PMC4673657</td>\n",
       "      <td>NaN</td>\n",
       "      <td>NaN</td>\n",
       "      <td>True</td>\n",
       "    </tr>\n",
       "    <tr>\n",
       "      <th>3</th>\n",
       "      <td>FU Berlin</td>\n",
       "      <td>2015</td>\n",
       "      <td>2000.0</td>\n",
       "      <td>10.1371/journal.ppat.1005246</td>\n",
       "      <td>False</td>\n",
       "      <td>Public Library of Science (PLoS)</td>\n",
       "      <td>PLOS Pathogens</td>\n",
       "      <td>1553-7374</td>\n",
       "      <td>NaN</td>\n",
       "      <td>1553-7374</td>\n",
       "      <td>http://creativecommons.org/licenses/by/4.0/</td>\n",
       "      <td>True</td>\n",
       "      <td>26544881.0</td>\n",
       "      <td>PMC4636265</td>\n",
       "      <td>NaN</td>\n",
       "      <td>NaN</td>\n",
       "      <td>True</td>\n",
       "    </tr>\n",
       "    <tr>\n",
       "      <th>12</th>\n",
       "      <td>FU Berlin</td>\n",
       "      <td>2015</td>\n",
       "      <td>2000.0</td>\n",
       "      <td>10.3389/fpsyg.2015.01675</td>\n",
       "      <td>False</td>\n",
       "      <td>Frontiers Media SA</td>\n",
       "      <td>Frontiers in Psychology</td>\n",
       "      <td>1664-1078</td>\n",
       "      <td>NaN</td>\n",
       "      <td>1664-1078</td>\n",
       "      <td>NaN</td>\n",
       "      <td>True</td>\n",
       "      <td>26583000.0</td>\n",
       "      <td>PMC4628112</td>\n",
       "      <td>NaN</td>\n",
       "      <td>NaN</td>\n",
       "      <td>True</td>\n",
       "    </tr>\n",
       "    <tr>\n",
       "      <th>15</th>\n",
       "      <td>FU Berlin</td>\n",
       "      <td>2015</td>\n",
       "      <td>2000.0</td>\n",
       "      <td>10.1371/journal.ppat.1004781</td>\n",
       "      <td>False</td>\n",
       "      <td>Public Library of Science (PLoS)</td>\n",
       "      <td>PLOS Pathogens</td>\n",
       "      <td>1553-7374</td>\n",
       "      <td>NaN</td>\n",
       "      <td>1553-7374</td>\n",
       "      <td>http://creativecommons.org/licenses/by/4.0/</td>\n",
       "      <td>True</td>\n",
       "      <td>NaN</td>\n",
       "      <td>NaN</td>\n",
       "      <td>NaN</td>\n",
       "      <td>NaN</td>\n",
       "      <td>True</td>\n",
       "    </tr>\n",
       "    <tr>\n",
       "      <th>23</th>\n",
       "      <td>FU Berlin</td>\n",
       "      <td>2015</td>\n",
       "      <td>2000.0</td>\n",
       "      <td>10.1127/metz/2015/0641</td>\n",
       "      <td>False</td>\n",
       "      <td>Schweizerbart</td>\n",
       "      <td>Meteorologische Zeitschrift</td>\n",
       "      <td>0941-2948</td>\n",
       "      <td>NaN</td>\n",
       "      <td>NaN</td>\n",
       "      <td>NaN</td>\n",
       "      <td>True</td>\n",
       "      <td>NaN</td>\n",
       "      <td>NaN</td>\n",
       "      <td>NaN</td>\n",
       "      <td>NaN</td>\n",
       "      <td>True</td>\n",
       "    </tr>\n",
       "    <tr>\n",
       "      <th>28</th>\n",
       "      <td>FU Berlin</td>\n",
       "      <td>2015</td>\n",
       "      <td>2000.0</td>\n",
       "      <td>10.3389/fnhum.2015.00551</td>\n",
       "      <td>False</td>\n",
       "      <td>Frontiers Media SA</td>\n",
       "      <td>Frontiers in Human Neuroscience</td>\n",
       "      <td>1662-5161</td>\n",
       "      <td>NaN</td>\n",
       "      <td>1662-5161</td>\n",
       "      <td>NaN</td>\n",
       "      <td>True</td>\n",
       "      <td>26500523.0</td>\n",
       "      <td>PMC4599046</td>\n",
       "      <td>NaN</td>\n",
       "      <td>NaN</td>\n",
       "      <td>True</td>\n",
       "    </tr>\n",
       "    <tr>\n",
       "      <th>29</th>\n",
       "      <td>FU Berlin</td>\n",
       "      <td>2015</td>\n",
       "      <td>2000.0</td>\n",
       "      <td>10.1038/ncomms8606</td>\n",
       "      <td>False</td>\n",
       "      <td>Springer Nature</td>\n",
       "      <td>Nature Communications</td>\n",
       "      <td>2041-1723</td>\n",
       "      <td>NaN</td>\n",
       "      <td>2041-1723</td>\n",
       "      <td>NaN</td>\n",
       "      <td>True</td>\n",
       "      <td>26216619.0</td>\n",
       "      <td>PMC4525213</td>\n",
       "      <td>NaN</td>\n",
       "      <td>NaN</td>\n",
       "      <td>True</td>\n",
       "    </tr>\n",
       "    <tr>\n",
       "      <th>32</th>\n",
       "      <td>FU Berlin</td>\n",
       "      <td>2015</td>\n",
       "      <td>2000.0</td>\n",
       "      <td>10.1186/s12918-015-0183-x</td>\n",
       "      <td>False</td>\n",
       "      <td>Springer Nature</td>\n",
       "      <td>BMC Systems Biology</td>\n",
       "      <td>1752-0509</td>\n",
       "      <td>NaN</td>\n",
       "      <td>1752-0509</td>\n",
       "      <td>NaN</td>\n",
       "      <td>True</td>\n",
       "      <td>26201334.0</td>\n",
       "      <td>PMC4511525</td>\n",
       "      <td>NaN</td>\n",
       "      <td>NaN</td>\n",
       "      <td>True</td>\n",
       "    </tr>\n",
       "    <tr>\n",
       "      <th>45</th>\n",
       "      <td>FU Berlin</td>\n",
       "      <td>2015</td>\n",
       "      <td>2000.0</td>\n",
       "      <td>10.1371/journal.pcbi.1004200</td>\n",
       "      <td>False</td>\n",
       "      <td>Public Library of Science (PLoS)</td>\n",
       "      <td>PLOS Computational Biology</td>\n",
       "      <td>1553-7358</td>\n",
       "      <td>NaN</td>\n",
       "      <td>1553-7358</td>\n",
       "      <td>http://creativecommons.org/licenses/by/4.0/</td>\n",
       "      <td>True</td>\n",
       "      <td>25927964.0</td>\n",
       "      <td>PMC4423987</td>\n",
       "      <td>NaN</td>\n",
       "      <td>NaN</td>\n",
       "      <td>True</td>\n",
       "    </tr>\n",
       "    <tr>\n",
       "      <th>60</th>\n",
       "      <td>FU Berlin</td>\n",
       "      <td>2015</td>\n",
       "      <td>2000.0</td>\n",
       "      <td>10.1155/2015/569512</td>\n",
       "      <td>False</td>\n",
       "      <td>Hindawi Publishing Corporation</td>\n",
       "      <td>Mediators of Inflammation</td>\n",
       "      <td>0962-9351</td>\n",
       "      <td>0962-9351</td>\n",
       "      <td>1466-1861</td>\n",
       "      <td>http://creativecommons.org/licenses/by/4.0/</td>\n",
       "      <td>True</td>\n",
       "      <td>26770019.0</td>\n",
       "      <td>PMC4681803</td>\n",
       "      <td>NaN</td>\n",
       "      <td>NaN</td>\n",
       "      <td>True</td>\n",
       "    </tr>\n",
       "  </tbody>\n",
       "</table>\n",
       "</div>"
      ],
      "text/plain": [
       "   institution  period    euro                            doi  is_hybrid  \\\n",
       "0    FU Berlin    2015  2000.0          10.1038/npjqi.2015.10      False   \n",
       "2    FU Berlin    2015  2000.0             10.1038/ncomms9498      False   \n",
       "3    FU Berlin    2015  2000.0   10.1371/journal.ppat.1005246      False   \n",
       "12   FU Berlin    2015  2000.0       10.3389/fpsyg.2015.01675      False   \n",
       "15   FU Berlin    2015  2000.0   10.1371/journal.ppat.1004781      False   \n",
       "23   FU Berlin    2015  2000.0         10.1127/metz/2015/0641      False   \n",
       "28   FU Berlin    2015  2000.0       10.3389/fnhum.2015.00551      False   \n",
       "29   FU Berlin    2015  2000.0             10.1038/ncomms8606      False   \n",
       "32   FU Berlin    2015  2000.0      10.1186/s12918-015-0183-x      False   \n",
       "45   FU Berlin    2015  2000.0   10.1371/journal.pcbi.1004200      False   \n",
       "60   FU Berlin    2015  2000.0            10.1155/2015/569512      False   \n",
       "\n",
       "                           publisher               journal_full_title  \\\n",
       "0                    Springer Nature          npj Quantum Information   \n",
       "2                    Springer Nature            Nature Communications   \n",
       "3   Public Library of Science (PLoS)                   PLOS Pathogens   \n",
       "12                Frontiers Media SA          Frontiers in Psychology   \n",
       "15  Public Library of Science (PLoS)                   PLOS Pathogens   \n",
       "23                     Schweizerbart      Meteorologische Zeitschrift   \n",
       "28                Frontiers Media SA  Frontiers in Human Neuroscience   \n",
       "29                   Springer Nature            Nature Communications   \n",
       "32                   Springer Nature              BMC Systems Biology   \n",
       "45  Public Library of Science (PLoS)       PLOS Computational Biology   \n",
       "60    Hindawi Publishing Corporation        Mediators of Inflammation   \n",
       "\n",
       "         issn issn_print issn_electronic  \\\n",
       "0   2056-6387        NaN       2056-6387   \n",
       "2   2041-1723        NaN       2041-1723   \n",
       "3   1553-7374        NaN       1553-7374   \n",
       "12  1664-1078        NaN       1664-1078   \n",
       "15  1553-7374        NaN       1553-7374   \n",
       "23  0941-2948        NaN             NaN   \n",
       "28  1662-5161        NaN       1662-5161   \n",
       "29  2041-1723        NaN       2041-1723   \n",
       "32  1752-0509        NaN       1752-0509   \n",
       "45  1553-7358        NaN       1553-7358   \n",
       "60  0962-9351  0962-9351       1466-1861   \n",
       "\n",
       "                                    license_ref  indexed_in_crossref  \\\n",
       "0                                           NaN                 True   \n",
       "2                                           NaN                 True   \n",
       "3   http://creativecommons.org/licenses/by/4.0/                 True   \n",
       "12                                          NaN                 True   \n",
       "15  http://creativecommons.org/licenses/by/4.0/                 True   \n",
       "23                                          NaN                 True   \n",
       "28                                          NaN                 True   \n",
       "29                                          NaN                 True   \n",
       "32                                          NaN                 True   \n",
       "45  http://creativecommons.org/licenses/by/4.0/                 True   \n",
       "60  http://creativecommons.org/licenses/by/4.0/                 True   \n",
       "\n",
       "          pmid       pmcid  ut  url  doaj  \n",
       "0          NaN         NaN NaN  NaN  True  \n",
       "2   26577800.0  PMC4673657 NaN  NaN  True  \n",
       "3   26544881.0  PMC4636265 NaN  NaN  True  \n",
       "12  26583000.0  PMC4628112 NaN  NaN  True  \n",
       "15         NaN         NaN NaN  NaN  True  \n",
       "23         NaN         NaN NaN  NaN  True  \n",
       "28  26500523.0  PMC4599046 NaN  NaN  True  \n",
       "29  26216619.0  PMC4525213 NaN  NaN  True  \n",
       "32  26201334.0  PMC4511525 NaN  NaN  True  \n",
       "45  25927964.0  PMC4423987 NaN  NaN  True  \n",
       "60  26770019.0  PMC4681803 NaN  NaN  True  "
      ]
     },
     "execution_count": 15,
     "metadata": {},
     "output_type": "execute_result"
    }
   ],
   "source": [
    "apcs[apcs[\"euro\"] >= 2000]"
   ]
  },
  {
   "cell_type": "code",
   "execution_count": 16,
   "id": "e65b1c57",
   "metadata": {},
   "outputs": [],
   "source": [
    "%matplotlib inline"
   ]
  },
  {
   "cell_type": "code",
   "execution_count": 17,
   "id": "48eca3b9",
   "metadata": {},
   "outputs": [
    {
     "data": {
      "text/plain": [
       "<AxesSubplot:>"
      ]
     },
     "execution_count": 17,
     "metadata": {},
     "output_type": "execute_result"
    },
    {
     "data": {
      "image/png": "[encoded data removed]",
      "text/plain": [
       "<Figure size 432x288 with 1 Axes>"
      ]
     },
     "metadata": {
      "needs_background": "light"
     },
     "output_type": "display_data"
    }
   ],
   "source": [
    "apcs[\"euro\"].hist()"
   ]
  },
  {
   "cell_type": "code",
   "execution_count": 18,
   "id": "782fb219",
   "metadata": {},
   "outputs": [
    {
     "data": {
      "text/plain": [
       "<AxesSubplot:>"
      ]
     },
     "execution_count": 18,
     "metadata": {},
     "output_type": "execute_result"
    },
    {
     "data": {
      "image/png": "[encoded data removed]",
      "text/plain": [
       "<Figure size 432x288 with 1 Axes>"
      ]
     },
     "metadata": {
      "needs_background": "light"
     },
     "output_type": "display_data"
    }
   ],
   "source": [
    "apcs[\"euro\"].hist(bins=20, color=\"green\")"
   ]
  },
  {
   "cell_type": "code",
   "execution_count": 19,
   "id": "23e9e60a",
   "metadata": {},
   "outputs": [
    {
     "data": {
      "text/plain": [
       "<AxesSubplot:>"
      ]
     },
     "execution_count": 19,
     "metadata": {},
     "output_type": "execute_result"
    },
    {
     "data": {
      "image/png": "[encoded data removed]",
      "text/plain": [
       "<Figure size 432x288 with 1 Axes>"
      ]
     },
     "metadata": {
      "needs_background": "light"
     },
     "output_type": "display_data"
    }
   ],
   "source": [
    "apcs[\"publisher\"].value_counts().plot.bar()"
   ]
  },
  {
   "cell_type": "code",
   "execution_count": 22,
   "id": "046cf8c6",
   "metadata": {},
   "outputs": [
    {
     "data": {
      "image/png": "[encoded data removed]",
      "text/plain": [
       "<Figure size 432x288 with 1 Axes>"
      ]
     },
     "metadata": {
      "needs_background": "light"
     },
     "output_type": "display_data"
    }
   ],
   "source": [
    "histogram = apcs[\"euro\"].hist(bins=20, color=\"green\")"
   ]
  },
  {
   "cell_type": "code",
   "execution_count": 23,
   "id": "1ab9cc9a",
   "metadata": {},
   "outputs": [],
   "source": [
    "figure = histogram.get_figure()"
   ]
  },
  {
   "cell_type": "code",
   "execution_count": 24,
   "id": "0660a63b",
   "metadata": {},
   "outputs": [],
   "source": [
    "figure.savefig(\"apc_figure.pdf\")"
   ]
  },
  {
   "cell_type": "code",
   "execution_count": null,
   "id": "f2c8c5d3",
   "metadata": {},
   "outputs": [],
   "source": []
  }
 ],
 "metadata": {
  "kernelspec": {
   "display_name": "Python 3 (ipykernel)",
   "language": "python",
   "name": "python3"
  },
  "language_info": {
   "codemirror_mode": {
    "name": "ipython",
    "version": 3
   },
   "file_extension": ".py",
   "mimetype": "text/x-python",
   "name": "python",
   "nbconvert_exporter": "python",
   "pygments_lexer": "ipython3",
   "version": "3.9.7"
  }
 },
 "nbformat": 4,
 "nbformat_minor": 5
}
